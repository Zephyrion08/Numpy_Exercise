{
  "nbformat": 4,
  "nbformat_minor": 0,
  "metadata": {
    "colab": {
      "provenance": []
    },
    "kernelspec": {
      "name": "python3",
      "display_name": "Python 3"
    },
    "language_info": {
      "name": "python"
    }
  },
  "cells": [
    {
      "cell_type": "markdown",
      "source": [
        "# This is the numpy exercise\n"
      ],
      "metadata": {
        "id": "QNhkCOjkKYlN"
      }
    },
    {
      "cell_type": "markdown",
      "source": [
        "####  Import the numpy package under the name `np`"
      ],
      "metadata": {
        "id": "KWsiUI_gKlQc"
      }
    },
    {
      "cell_type": "code",
      "execution_count": 2,
      "metadata": {
        "id": "lE-YeksYKQnX"
      },
      "outputs": [],
      "source": [
        "import numpy as np"
      ]
    },
    {
      "cell_type": "markdown",
      "source": [
        "####  Create a null vector of size 10"
      ],
      "metadata": {
        "id": "FWve-_6uLBMi"
      }
    },
    {
      "cell_type": "code",
      "source": [
        "np.zeros((10,10))"
      ],
      "metadata": {
        "colab": {
          "base_uri": "https://localhost:8080/"
        },
        "id": "NKy1jWnXK7Rg",
        "outputId": "5be826e6-e97a-46d9-bb0e-ec7845abf64b"
      },
      "execution_count": 3,
      "outputs": [
        {
          "output_type": "execute_result",
          "data": {
            "text/plain": [
              "array([[0., 0., 0., 0., 0., 0., 0., 0., 0., 0.],\n",
              "       [0., 0., 0., 0., 0., 0., 0., 0., 0., 0.],\n",
              "       [0., 0., 0., 0., 0., 0., 0., 0., 0., 0.],\n",
              "       [0., 0., 0., 0., 0., 0., 0., 0., 0., 0.],\n",
              "       [0., 0., 0., 0., 0., 0., 0., 0., 0., 0.],\n",
              "       [0., 0., 0., 0., 0., 0., 0., 0., 0., 0.],\n",
              "       [0., 0., 0., 0., 0., 0., 0., 0., 0., 0.],\n",
              "       [0., 0., 0., 0., 0., 0., 0., 0., 0., 0.],\n",
              "       [0., 0., 0., 0., 0., 0., 0., 0., 0., 0.],\n",
              "       [0., 0., 0., 0., 0., 0., 0., 0., 0., 0.]])"
            ]
          },
          "metadata": {},
          "execution_count": 3
        }
      ]
    },
    {
      "cell_type": "markdown",
      "source": [
        "####  Create a null vector of size 10 but the fifth value which is 1"
      ],
      "metadata": {
        "id": "IOrAvGVDLS0V"
      }
    },
    {
      "cell_type": "code",
      "source": [
        "z = np.zeros(10)\n",
        "z[4] = 1\n",
        "print(z)"
      ],
      "metadata": {
        "colab": {
          "base_uri": "https://localhost:8080/"
        },
        "id": "bXH7-pUDLJf-",
        "outputId": "a221995b-edb1-4f1b-faa4-8fe59b5070d8"
      },
      "execution_count": 4,
      "outputs": [
        {
          "output_type": "stream",
          "name": "stdout",
          "text": [
            "[0. 0. 0. 0. 1. 0. 0. 0. 0. 0.]\n"
          ]
        }
      ]
    },
    {
      "cell_type": "markdown",
      "source": [
        "####  Create a vector with values ranging from 10 to 49"
      ],
      "metadata": {
        "id": "9gCYbQzULkFF"
      }
    },
    {
      "cell_type": "code",
      "source": [
        "np.arange(10,50)"
      ],
      "metadata": {
        "colab": {
          "base_uri": "https://localhost:8080/"
        },
        "id": "wmp0vH5LLQwt",
        "outputId": "985561ad-02fb-4af8-d4cf-eba26fe6189d"
      },
      "execution_count": 5,
      "outputs": [
        {
          "output_type": "execute_result",
          "data": {
            "text/plain": [
              "array([10, 11, 12, 13, 14, 15, 16, 17, 18, 19, 20, 21, 22, 23, 24, 25, 26,\n",
              "       27, 28, 29, 30, 31, 32, 33, 34, 35, 36, 37, 38, 39, 40, 41, 42, 43,\n",
              "       44, 45, 46, 47, 48, 49])"
            ]
          },
          "metadata": {},
          "execution_count": 5
        }
      ]
    },
    {
      "cell_type": "markdown",
      "source": [
        "####  Reverse a vector (first element becomes last)"
      ],
      "metadata": {
        "id": "BOIBiw6zL0_E"
      }
    },
    {
      "cell_type": "code",
      "source": [
        "z = np.arange(50)\n",
        "z = z[::-1]\n",
        "print(z)"
      ],
      "metadata": {
        "colab": {
          "base_uri": "https://localhost:8080/"
        },
        "id": "UARTfA0DLxST",
        "outputId": "fd5af190-5f81-422e-a207-95edbca2a164"
      },
      "execution_count": 6,
      "outputs": [
        {
          "output_type": "stream",
          "name": "stdout",
          "text": [
            "[49 48 47 46 45 44 43 42 41 40 39 38 37 36 35 34 33 32 31 30 29 28 27 26\n",
            " 25 24 23 22 21 20 19 18 17 16 15 14 13 12 11 10  9  8  7  6  5  4  3  2\n",
            "  1  0]\n"
          ]
        }
      ]
    },
    {
      "cell_type": "markdown",
      "source": [
        "####  Create a 3x3 matrix with values ranging from 0 to 8"
      ],
      "metadata": {
        "id": "MU1ezpufMI2U"
      }
    },
    {
      "cell_type": "code",
      "source": [
        "np.arange(9).reshape(3,3)"
      ],
      "metadata": {
        "colab": {
          "base_uri": "https://localhost:8080/"
        },
        "id": "4Gk0O5NjMEk7",
        "outputId": "584be47a-cd98-44e3-d677-56fb1854aab4"
      },
      "execution_count": 7,
      "outputs": [
        {
          "output_type": "execute_result",
          "data": {
            "text/plain": [
              "array([[0, 1, 2],\n",
              "       [3, 4, 5],\n",
              "       [6, 7, 8]])"
            ]
          },
          "metadata": {},
          "execution_count": 7
        }
      ]
    },
    {
      "cell_type": "markdown",
      "source": [
        "####  Find indices of non-zero elements from [1,2,0,0,4,0]"
      ],
      "metadata": {
        "id": "25pDRnCTMSWU"
      }
    },
    {
      "cell_type": "code",
      "source": [
        "np.nonzero([1,2,0,0,4,0])"
      ],
      "metadata": {
        "colab": {
          "base_uri": "https://localhost:8080/"
        },
        "id": "773Dqw33MRT7",
        "outputId": "5a9fe6a7-ad3c-44be-c88d-6e8b1face011"
      },
      "execution_count": 8,
      "outputs": [
        {
          "output_type": "execute_result",
          "data": {
            "text/plain": [
              "(array([0, 1, 4]),)"
            ]
          },
          "metadata": {},
          "execution_count": 8
        }
      ]
    },
    {
      "cell_type": "markdown",
      "source": [
        "####  Create a 3x3 identity matrix"
      ],
      "metadata": {
        "id": "h_9xHuJmMtgE"
      }
    },
    {
      "cell_type": "code",
      "source": [
        "np.eye(3,3)"
      ],
      "metadata": {
        "colab": {
          "base_uri": "https://localhost:8080/"
        },
        "id": "EUGLYiHlMqmz",
        "outputId": "441dadea-9260-4e3c-cd93-3ed1cf829029"
      },
      "execution_count": 9,
      "outputs": [
        {
          "output_type": "execute_result",
          "data": {
            "text/plain": [
              "array([[1., 0., 0.],\n",
              "       [0., 1., 0.],\n",
              "       [0., 0., 1.]])"
            ]
          },
          "metadata": {},
          "execution_count": 9
        }
      ]
    },
    {
      "cell_type": "markdown",
      "source": [
        "####  Create a 3x3x3 array with random values"
      ],
      "metadata": {
        "id": "qWCEHB_xMtWM"
      }
    },
    {
      "cell_type": "code",
      "source": [
        "np.random.random((3,3,3))"
      ],
      "metadata": {
        "colab": {
          "base_uri": "https://localhost:8080/"
        },
        "id": "vcSnTuFPNB-D",
        "outputId": "1ab8dd6a-60d8-4fc5-b061-01b9e3434877"
      },
      "execution_count": 10,
      "outputs": [
        {
          "output_type": "execute_result",
          "data": {
            "text/plain": [
              "array([[[0.41119546, 0.91262427, 0.45945793],\n",
              "        [0.71693104, 0.59296511, 0.7339471 ],\n",
              "        [0.95727893, 0.92174658, 0.65841467]],\n",
              "\n",
              "       [[0.06588772, 0.10922521, 0.09354989],\n",
              "        [0.7065297 , 0.01468497, 0.74796417],\n",
              "        [0.24148147, 0.48860998, 0.96003734]],\n",
              "\n",
              "       [[0.47339865, 0.45758534, 0.44485404],\n",
              "        [0.71047077, 0.86890615, 0.01914871],\n",
              "        [0.87692548, 0.63291415, 0.48651714]]])"
            ]
          },
          "metadata": {},
          "execution_count": 10
        }
      ]
    },
    {
      "cell_type": "markdown",
      "source": [
        "####  Create a 10x10 array with random values and find the minimum and maximum values\n",
        "\n"
      ],
      "metadata": {
        "id": "DI-C3O0ENHMM"
      }
    },
    {
      "cell_type": "code",
      "source": [
        "Z = np.random.random((10,10))\n",
        "Zmin, Zmax = Z.min(), Z.max()\n",
        "print(Zmin, Zmax)"
      ],
      "metadata": {
        "colab": {
          "base_uri": "https://localhost:8080/"
        },
        "id": "Vx95cAjENF1D",
        "outputId": "1b5747c3-eeb1-4ddb-878b-0d5c8bcfb551"
      },
      "execution_count": 11,
      "outputs": [
        {
          "output_type": "stream",
          "name": "stdout",
          "text": [
            "0.00556035125483445 0.9891829927298593\n"
          ]
        }
      ]
    },
    {
      "cell_type": "markdown",
      "source": [
        "####  Create a random vector of size 30 and find the mean value"
      ],
      "metadata": {
        "id": "nrTMrplDN0xE"
      }
    },
    {
      "cell_type": "code",
      "source": [
        "np.random.random(30).mean()\n"
      ],
      "metadata": {
        "colab": {
          "base_uri": "https://localhost:8080/"
        },
        "id": "w9tdWkTbNW73",
        "outputId": "96df3ebe-33ec-4fb8-bcf2-4ce8077fe85e"
      },
      "execution_count": 12,
      "outputs": [
        {
          "output_type": "execute_result",
          "data": {
            "text/plain": [
              "0.5167761231718501"
            ]
          },
          "metadata": {},
          "execution_count": 12
        }
      ]
    },
    {
      "cell_type": "markdown",
      "source": [
        "####  Create a 2d array with 1 on the border and 0 inside\n",
        "\n"
      ],
      "metadata": {
        "id": "QUzu6M-wOGoD"
      }
    },
    {
      "cell_type": "code",
      "source": [
        "z = np.ones((10,10))\n",
        "z[1:-1,1:-1] = 0\n",
        "print(z)"
      ],
      "metadata": {
        "colab": {
          "base_uri": "https://localhost:8080/"
        },
        "id": "w06G0K89N1_r",
        "outputId": "11a3a6fd-69ab-438a-deca-7363fbd5aed9"
      },
      "execution_count": 13,
      "outputs": [
        {
          "output_type": "stream",
          "name": "stdout",
          "text": [
            "[[1. 1. 1. 1. 1. 1. 1. 1. 1. 1.]\n",
            " [1. 0. 0. 0. 0. 0. 0. 0. 0. 1.]\n",
            " [1. 0. 0. 0. 0. 0. 0. 0. 0. 1.]\n",
            " [1. 0. 0. 0. 0. 0. 0. 0. 0. 1.]\n",
            " [1. 0. 0. 0. 0. 0. 0. 0. 0. 1.]\n",
            " [1. 0. 0. 0. 0. 0. 0. 0. 0. 1.]\n",
            " [1. 0. 0. 0. 0. 0. 0. 0. 0. 1.]\n",
            " [1. 0. 0. 0. 0. 0. 0. 0. 0. 1.]\n",
            " [1. 0. 0. 0. 0. 0. 0. 0. 0. 1.]\n",
            " [1. 1. 1. 1. 1. 1. 1. 1. 1. 1.]]\n"
          ]
        }
      ]
    },
    {
      "cell_type": "markdown",
      "source": [
        "####  Multiply a 5x3 matrix by a 3x2 matrix (real matrix product)"
      ],
      "metadata": {
        "id": "Tf_LV77gOt7u"
      }
    },
    {
      "cell_type": "code",
      "source": [
        "Z = np.dot(np.ones((5,3)), np.ones((3,2)))\n",
        "print(Z)"
      ],
      "metadata": {
        "colab": {
          "base_uri": "https://localhost:8080/"
        },
        "id": "xjACSQyYOd9T",
        "outputId": "f6f36254-0124-4fdd-dfa3-c17ccb4088f4"
      },
      "execution_count": 14,
      "outputs": [
        {
          "output_type": "stream",
          "name": "stdout",
          "text": [
            "[[3. 3.]\n",
            " [3. 3.]\n",
            " [3. 3.]\n",
            " [3. 3.]\n",
            " [3. 3.]]\n"
          ]
        }
      ]
    },
    {
      "cell_type": "markdown",
      "source": [
        "####  Create a vector of size 10 with values ranging from 0 to 1, both excluded"
      ],
      "metadata": {
        "id": "xmEWu9vLPLqt"
      }
    },
    {
      "cell_type": "code",
      "source": [
        "Z = np.linspace(0,1,11,endpoint=False)[1:]\n",
        "print(Z)"
      ],
      "metadata": {
        "id": "E4kOStXDO0Yz",
        "colab": {
          "base_uri": "https://localhost:8080/"
        },
        "outputId": "e21891e5-ed82-484b-fd05-49bb322c9ed9"
      },
      "execution_count": 15,
      "outputs": [
        {
          "output_type": "stream",
          "name": "stdout",
          "text": [
            "[0.09090909 0.18181818 0.27272727 0.36363636 0.45454545 0.54545455\n",
            " 0.63636364 0.72727273 0.81818182 0.90909091]\n"
          ]
        }
      ]
    },
    {
      "cell_type": "code",
      "source": [],
      "metadata": {
        "id": "aMNsSerKPI-S"
      },
      "execution_count": 15,
      "outputs": []
    }
  ]
}